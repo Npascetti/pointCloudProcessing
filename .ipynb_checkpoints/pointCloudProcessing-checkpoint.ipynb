{
 "cells": [
  {
   "cell_type": "code",
   "execution_count": 1,
   "metadata": {},
   "outputs": [
    {
     "data": {
      "image/jpeg": "[encoded data removed]",
      "text/html": [
       "\n",
       "        <iframe\n",
       "            width=\"400\"\n",
       "            height=\"300\"\n",
       "            src=\"https://www.youtube.com/embed/GSPcyhSAgTQ?start=7&end=31\"\n",
       "            frameborder=\"0\"\n",
       "            allowfullscreen\n",
       "        ></iframe>\n",
       "        "
      ],
      "text/plain": [
       "<IPython.lib.display.YouTubeVideo at 0x7f7a8de82320>"
      ]
     },
     "execution_count": 1,
     "metadata": {},
     "output_type": "execute_result"
    }
   ],
   "source": [
    "from IPython.display import YouTubeVideo\n",
    "YouTubeVideo('GSPcyhSAgTQ',start=7, end=31)"
   ]
  },
  {
   "cell_type": "code",
   "execution_count": 2,
   "metadata": {},
   "outputs": [],
   "source": [
    "import glob\n",
    "import io\n",
    "import ipyleaflet\n",
    "import IPython.display\n",
    "import ipyvolume.pylab as p3\n",
    "import json\n",
    "import matplotlib.cm\n",
    "import matplotlib.pyplot as plt\n",
    "import numpy as np\n",
    "import os\n",
    "import pandas as pd\n",
    "import pdal\n",
    "import PIL\n",
    "import pyproj\n",
    "import requests\n",
    "import shapely.geometry\n",
    "import scipy.spatial\n",
    "import sys\n",
    "import urllib.request\n",
    "\n",
    "%load_ext autoreload\n",
    "%autoreload 2\n",
    "    \n",
    "sys.path.append('../src')\n",
    "from pcl_utils import local_max\n",
    "\n",
    "# Url for aerial imagery\n",
    "IVaerial = \"https://geoservices.informatievlaanderen.be/raadpleegdiensten/ogw/wms?SERVICE=WMS&VERSION=1.3.0&REQUEST=GetMap&CRS=EPSG:31370&BBOX={0},{1},{2},{3}&WIDTH=512&HEIGHT=512&LAYERS=OGWRGB13_15VL&STYLES=default&FORMAT=image/png\"\n",
    "\n",
    "%matplotlib inline"
   ]
  },
  {
   "cell_type": "code",
   "execution_count": 3,
   "metadata": {},
   "outputs": [],
   "source": [
    "\n",
    "# Download the LAS data file if not already present# Downl \n",
    "if not os.path.isdir('../data'):\n",
    "    os.makedirs('../data')\n",
    "lidar_filename = 'LiDAR_DHMV_2_P4_ATL12431_ES_20140325_31195_2_150500_166500.las'\n",
    "if not os.path.isfile('../data/' + lidar_filename):\n",
    "    urllib.request.urlretrieve('https://s3-eu-west-1.amazonaws.com/rockestate-public/lidar/' + lidar_filename, \n",
    "                               '../data/' + lidar_filename)"
   ]
  },
  {
   "cell_type": "code",
   "execution_count": 4,
   "metadata": {},
   "outputs": [
    {
     "data": {
      "application/vnd.jupyter.widget-view+json": {
       "model_id": "700a683bdacd46a6ae7e12ca088a2749",
       "version_major": 2,
       "version_minor": 0
      },
      "text/plain": [
       "Map(basemap={'url': 'https://{s}.tile.openstreetmap.org/{z}/{x}/{y}.png', 'max_zoom': 19, 'attribution': 'Map …"
      ]
     },
     "metadata": {},
     "output_type": "display_data"
    }
   ],
   "source": [
    "m = ipyleaflet.Map(center=(50.81343, 4.38188), zoom=16)\n",
    "dc = ipyleaflet.DrawControl()\n",
    "m.add_control(dc)\n",
    "m"
   ]
  },
  {
   "cell_type": "code",
   "execution_count": 5,
   "metadata": {},
   "outputs": [
    {
     "name": "stdout",
     "output_type": "stream",
     "text": [
      "POLYGON ((150541.2717674173 166990.2885842845, 150780.2460951238 167047.6094419109, 150936.0441230068 166791.2288897913, 150837.7363587495 166733.9228856787, 150645.6758200093 166768.6006616307, 150541.2717674173 166990.2885842845))\n"
     ]
    },
    {
     "data": {
      "image/svg+xml": [
       "<svg xmlns=\"http://www.w3.org/2000/svg\" xmlns:xlink=\"http://www.w3.org/1999/xlink\" width=\"300\" height=\"300\" viewBox=\"150525.48087319374 166718.13199145513 426.35414403662435 345.2683446793235\" preserveAspectRatio=\"xMinYMin meet\"><g transform=\"matrix(1,0,0,-1,0,333781.5323275896)\"><path fill-rule=\"evenodd\" fill=\"#66cc99\" stroke=\"#555555\" stroke-width=\"2.842360960244162\" opacity=\"0.6\" d=\"M 150541.27176741732,166990.28858428448 L 150780.24609512385,167047.60944191087 L 150936.04412300678,166791.2288897913 L 150837.73635874948,166733.9228856787 L 150645.6758200093,166768.60066163074 L 150541.27176741732,166990.28858428448 z\" /></g></svg>"
      ],
      "text/plain": [
       "<shapely.geometry.polygon.Polygon at 0x7f7a478ab7f0>"
      ]
     },
     "metadata": {},
     "output_type": "display_data"
    }
   ],
   "source": [
    "wsg84 = pyproj.Proj(init='epsg:4326')\n",
    "lambert = pyproj.Proj(init='epsg:31370')\n",
    "coords = [pyproj.transform(wsg84,lambert,x,y) for (x,y) in dc.last_draw['geometry']['coordinates'][0]]\n",
    "polygon = shapely.geometry.Polygon(coords)\n",
    "print(polygon.wkt)\n",
    "IPython.display.display(polygon)"
   ]
  },
  {
   "cell_type": "code",
   "execution_count": 6,
   "metadata": {},
   "outputs": [
    {
     "name": "stdout",
     "output_type": "stream",
     "text": [
      "CPU times: user 27.2 s, sys: 145 ms, total: 27.3 s\n",
      "Wall time: 27.2 s\n",
      "Pipeline selected 396331 points (5.2 pts/m2)\n"
     ]
    }
   ],
   "source": [
    "b = polygon.bounds\n",
    "cropper = {\n",
    "    \"pipeline\": [ '../data/'+ lidar_filename,\n",
    "        {   \"type\":\"filters.crop\",\n",
    "            'bounds':str(([b[0], b[2]],[b[1], b[3]]))},\n",
    "        {   \"type\":\"filters.crop\",\n",
    "            'polygon':polygon.wkt},\n",
    "        {   \"type\":\"filters.hag\"},\n",
    "        {   \"type\":\"filters.eigenvalues\",\n",
    "            \"knn\":16},\n",
    "        {   \"type\":\"filters.normal\",\n",
    "            \"knn\":16}\n",
    "    ]}\n",
    "pipeline = pdal.Pipeline(json.dumps(cropper))\n",
    "pipeline.validate()\n",
    "%time n_points = pipeline.execute()\n",
    "print('Pipeline selected {} points ({:.1f} pts/m2)'.format(n_points, n_points/polygon.area))"
   ]
  },
  {
   "cell_type": "code",
   "execution_count": 7,
   "metadata": {},
   "outputs": [],
   "source": [
    "# Load Pipeline output in python objects\n",
    "arr = pipeline.arrays[0]\n",
    "description = arr.dtype.descr\n",
    "cols = [col for col, __ in description]\n",
    "df = pd.DataFrame({col: arr[col] for col in cols})\n",
    "df['X_0'] = df['X']\n",
    "df['Y_0'] = df['Y']\n",
    "df['Z_0'] = df['Z']\n",
    "df['X'] = df['X'] - df['X_0'].min()\n",
    "df['Y'] = df['Y'] - df['Y_0'].min()\n",
    "df['Z'] = df['Z'] - df['Z_0'].min()"
   ]
  },
  {
   "cell_type": "code",
   "execution_count": 27,
   "metadata": {},
   "outputs": [
    {
     "data": {
      "application/vnd.jupyter.widget-view+json": {
       "model_id": "14a5af4cf2574fdc961e86c94cba464e",
       "version_major": 2,
       "version_minor": 0
      },
      "text/plain": [
       "VBox(children=(Figure(camera_center=[0.0, 0.0, 0.0], height=500, matrix_projection=[0.0, 0.0, 0.0, 0.0, 0.0, 0…"
      ]
     },
     "metadata": {},
     "output_type": "display_data"
    }
   ],
   "source": [
    "fig = p3.figure(width=1000)\n",
    "fig.xlabel='Y'\n",
    "fig.ylabel='Z'\n",
    "fig.zlabel='X'\n",
    "all_points = p3.scatter(df['Y'], df['Z'], df['X'], color='red', size=.2)\n",
    "p3.squarelim()\n",
    "p3.show()"
   ]
  },
  {
   "cell_type": "code",
   "execution_count": 28,
   "metadata": {},
   "outputs": [],
   "source": [
    "# Color ground in grey\n",
    "df['ground'] = df['Classification']!=1\n",
    "ground = p3.scatter(df.loc[df['ground'],'Y'], df.loc[df['ground'],'Z'], df.loc[df['ground'],'X'], color='red', size=.2)\n",
    "non_ground = p3.scatter(df.loc[~df['ground'],'Y'], df.loc[~df['ground'],'Z'], df.loc[~df['ground'],'X'], color='red', size=.2)\n",
    "fig.scatters.append(ground)\n",
    "fig.scatters.append(non_ground)\n",
    "all_points.visible = False\n",
    "ground.color='lightgrey'"
   ]
  },
  {
   "cell_type": "code",
   "execution_count": 29,
   "metadata": {},
   "outputs": [],
   "source": [
    "# Show ground as surface\n",
    "ground_delaunay = scipy.spatial.Delaunay(df.loc[df['ground'],['X','Y']])\n",
    "ground_surf = p3.plot_trisurf(df.loc[df['ground'],'Y'], df.loc[df['ground'],'Z'], df.loc[df['ground'],'X'], ground_delaunay.simplices, color='lightgrey')\n",
    "fig.meshes.append(ground_surf)\n",
    "ground.visible=False"
   ]
  },
  {
   "cell_type": "code",
   "execution_count": 30,
   "metadata": {},
   "outputs": [],
   "source": [
    "# Color points according to flatness\n",
    "df['flatness'] = df['Eigenvalue0'] \n",
    "non_ground.color=matplotlib.cm.viridis(df.loc[~df['ground'],'flatness']*4)[:,0:3]"
   ]
  },
  {
   "cell_type": "code",
   "execution_count": 31,
   "metadata": {},
   "outputs": [],
   "source": [
    "# Separate between trees and the rest\n",
    "df['tree_potential'] = (df['Classification']==1) & (df['HeightAboveGround'] >= 2) & (df['flatness'] > .05) &  (df['NumberOfReturns'] - df['ReturnNumber'] >= 1) \n",
    "df['other'] = ~df['ground'] & ~df['tree_potential']\n",
    "tree_potential = p3.scatter(df.loc[df['tree_potential'],'Y'], df.loc[df['tree_potential'],'Z'], df.loc[df['tree_potential'],'X'], color=matplotlib.cm.viridis(df.loc[df['tree_potential'],'flatness']*4)[:,0:3], size=.2)\n",
    "other = p3.scatter(df.loc[df['other'],'Y'], df.loc[df['other'],'Z'], df.loc[df['other'],'X'], color=matplotlib.cm.viridis(df.loc[df['other'],'flatness']*4)[:,0:3], size=.2)\n",
    "non_ground.visible=False\n",
    "tree_potential.color='darkgreen'\n",
    "other.color='red'"
   ]
  },
  {
   "cell_type": "code",
   "execution_count": 40,
   "metadata": {},
   "outputs": [],
   "source": [
    "#Hide non-tree\n",
    "other.visible=False"
   ]
  },
  {
   "cell_type": "code",
   "execution_count": 33,
   "metadata": {},
   "outputs": [],
   "source": [
    "lep = local_max(df.loc[df['tree_potential'],['X','Y','Z','HeightAboveGround']], radius=3, density_threshold=15)"
   ]
  },
  {
   "cell_type": "code",
   "execution_count": 34,
   "metadata": {},
   "outputs": [],
   "source": [
    "treetop_spheres = p3.scatter(lep['Y'], lep['Z'], lep['X'], color='red', size=.5, marker='sphere')\n",
    "fig.scatters.append(treetop_spheres)"
   ]
  },
  {
   "cell_type": "code",
   "execution_count": 36,
   "metadata": {},
   "outputs": [],
   "source": [
    "treetop_spheres.color = matplotlib.cm.tab20(np.arange(len(lep['Z']))%10)[:,0:3]"
   ]
  },
  {
   "cell_type": "code",
   "execution_count": 37,
   "metadata": {},
   "outputs": [],
   "source": [
    "kdtree = scipy.spatial.kdtree.KDTree(lep[['X','Y','Z']])\n",
    "dist, idx = kdtree.query(df.loc[df['tree_potential'],['X','Y','Z']].values)\n",
    "tree_potential.color=matplotlib.cm.tab20(idx%10)[:,0:3]\n",
    "df.loc[df['tree_potential'], 'tree_idx'] = idx"
   ]
  },
  {
   "cell_type": "code",
   "execution_count": 38,
   "metadata": {},
   "outputs": [],
   "source": [
    "medians = df.groupby('tree_idx')[['X','Y','Z']].median()\n",
    "for axis in ['X','Y','Z']:\n",
    "    df['d'+axis] = df[axis] - df['tree_idx'].map(medians[axis])\n",
    "df['radius'] = np.linalg.norm(df[['dX', 'dY', 'dZ']].values, axis=1)\n",
    "radii = pd.DataFrame([df.groupby('tree_idx')['radius'].quantile(.5), lep['HeightAboveGround'].values*.4]).min()"
   ]
  },
  {
   "cell_type": "code",
   "execution_count": 41,
   "metadata": {},
   "outputs": [],
   "source": [
    "scale = max(df['X'].max() - df['X'].min(), df['Y'].max() - df['Y'].min())\n",
    "treetop_spheres.x = medians['Y']\n",
    "treetop_spheres.y = medians['Z']\n",
    "treetop_spheres.z = medians['X']\n",
    "treetop_spheres.size = radii * 100 / scale"
   ]
  },
  {
   "cell_type": "code",
   "execution_count": 42,
   "metadata": {},
   "outputs": [],
   "source": [
    "tree_potential.visible = False"
   ]
  },
  {
   "cell_type": "code",
   "execution_count": 43,
   "metadata": {},
   "outputs": [],
   "source": [
    "other.visible = True\n",
    "treetop_spheres.color='darkgreen'\n",
    "p3.style.use('minimal')"
   ]
  },
  {
   "cell_type": "code",
   "execution_count": 44,
   "metadata": {},
   "outputs": [
    {
     "data": {
      "application/vnd.jupyter.widget-view+json": {
       "model_id": "9f12f22f35cf45d3913808fc18143474",
       "version_major": 2,
       "version_minor": 0
      },
      "text/plain": [
       "Map(basemap={'url': 'https://{s}.tile.openstreetmap.org/{z}/{x}/{y}.png', 'max_zoom': 19, 'attribution': 'Map …"
      ]
     },
     "metadata": {},
     "output_type": "display_data"
    }
   ],
   "source": [
    "m2 = ipyleaflet.Map(center=(50.81343, 4.38188), zoom=17)\n",
    "dc2 = ipyleaflet.DrawControl()\n",
    "m2.add_control(dc2)\n",
    "m2"
   ]
  },
  {
   "cell_type": "code",
   "execution_count": 45,
   "metadata": {},
   "outputs": [
    {
     "name": "stdout",
     "output_type": "stream",
     "text": [
      "POLYGON ((150877.0425273378 166854.068546881, 150915.2380806474 166872.0962733226, 150903.8879223139 166890.2262673816, 150864.5629997226 166882.654958046, 150877.0425273378 166854.068546881))\n"
     ]
    },
    {
     "data": {
      "image/svg+xml": [
       "<svg xmlns=\"http://www.w3.org/2000/svg\" xmlns:xlink=\"http://www.w3.org/1999/xlink\" width=\"100.0\" height=\"100.0\" viewBox=\"150862.5359964856 166852.04154364398 54.72908739882405 40.211726974579506\" preserveAspectRatio=\"xMinYMin meet\"><g transform=\"matrix(1,0,0,-1,0,333744.29481426254)\"><path fill-rule=\"evenodd\" fill=\"#66cc99\" stroke=\"#555555\" stroke-width=\"1.094581747976481\" opacity=\"0.6\" d=\"M 150877.04252733776,166854.06854688097 L 150915.23808064742,166872.0962733226 L 150903.88792231394,166890.22626738157 L 150864.56299972258,166882.65495804604 L 150877.04252733776,166854.06854688097 z\" /></g></svg>"
      ],
      "text/plain": [
       "<shapely.geometry.polygon.Polygon at 0x5832dd8>"
      ]
     },
     "metadata": {},
     "output_type": "display_data"
    }
   ],
   "source": [
    "wsg84 = pyproj.Proj(init='epsg:4326')\n",
    "lambert = pyproj.Proj(init='epsg:31370')\n",
    "coords = [pyproj.transform(wsg84,lambert,x,y) for (x,y) in dc2.last_draw['geometry']['coordinates'][0]]\n",
    "polygon2 = shapely.geometry.Polygon(coords)\n",
    "print(polygon2)\n",
    "IPython.display.display(polygon2)"
   ]
  },
  {
   "cell_type": "code",
   "execution_count": 46,
   "metadata": {},
   "outputs": [
    {
     "name": "stdout",
     "output_type": "stream",
     "text": [
      "Wall time: 4.76 s\n",
      "Pipeline selected 5396 points (5.1 pts/m2)\n"
     ]
    }
   ],
   "source": [
    "b  ==  polygon2.bounds\n",
    "cropper = {\n",
    "    \"pipeline\": list(glob.glob('../data/*150500_166500.las')) + [ # [ '../data/' + lidar_filename,\n",
    "        {   \"type\":\"filters.crop\",\n",
    "            'bounds':str(([b[0], b[2]],[b[1], b[3]]))},\n",
    "        {   \"type\":\"filters.merge\"},\n",
    "        {   \"type\":\"filters.hag\"},\n",
    "        {   \"type\":\"filters.crop\",\n",
    "            'polygon':polygon2.wkt},\n",
    "        {   \"type\":\"filters.eigenvalues\",\n",
    "            \"knn\":16},\n",
    "        {   \"type\":\"filters.normal\",\n",
    "            \"knn\":16}\n",
    "    ]}\n",
    "pipeline = pdal.Pipeline(json.dumps(cropper))\n",
    "pipeline.validate()\n",
    "%time n_points = pipeline.execute()\n",
    "print('Pipeline selected {} points ({:.1f} pts/m2)'.format(n_points, n_points/polygon2.area))"
   ]
  },
  {
   "cell_type": "code",
   "execution_count": 47,
   "metadata": {},
   "outputs": [],
   "source": [
    "arr = pipeline.arrays[0]\n",
    "description = arr.dtype.descr\n",
    "cols = [col for col, __ in description]\n",
    "df = pd.DataFrame({col: arr[col] for col in cols})\n",
    "df['X_0'] = df['X']\n",
    "df['Y_0'] = df['Y']\n",
    "df['Z_0'] = df['Z']\n",
    "df['X'] = df['X'] - df['X_0'].mean()\n",
    "df['Y'] = df['Y'] - df['Y_0'].mean()\n",
    "df['Z'] = df['Z'] - df['Z_0'].min()\n",
    "df.loc[df['HeightAboveGround'] < .2,'Classification'] = 2"
   ]
  },
  {
   "cell_type": "code",
   "execution_count": 48,
   "metadata": {},
   "outputs": [
    {
     "data": {
      "application/vnd.jupyter.widget-view+json": {
       "model_id": "4f9f296dd9034a8fa7ac752150a35ef2",
       "version_major": 2,
       "version_minor": 0
      },
      "text/plain": [
       "VBox(children=(Figure(camera_center=[0.0, 0.0, 0.0], height=500, matrix_projection=[0.0, 0.0, 0.0, 0.0, 0.0, 0…"
      ]
     },
     "metadata": {},
     "output_type": "display_data"
    }
   ],
   "source": [
    "fig = p3.figure(width=1000)\n",
    "fig.xlabel='Y'\n",
    "fig.ylabel='Z'\n",
    "fig.zlabel='X'\n",
    "ground_delaunay = scipy.spatial.Delaunay(df.loc[df['Classification'] != 1, ['X','Y']])\n",
    "ground = p3.plot_trisurf(df.loc[df['Classification'] != 1,'Y'], df.loc[df['Classification'] != 1,'Z'], df.loc[df['Classification'] != 1,'X'], triangles = ground_delaunay.simplices, color='lightgrey')\n",
    "non_ground = p3.scatter(df.loc[df['Classification'] == 1,'Y'], df.loc[df['Classification'] == 1,'Z'], df.loc[df['Classification'] == 1,'X'], color='red', size=.2)\n",
    "p3.squarelim()\n",
    "p3.show()"
   ]
  },
  {
   "cell_type": "code",
   "execution_count": 49,
   "metadata": {},
   "outputs": [],
   "source": [
    "\n",
    "roof_mask = (df['Classification'] == 1) & (df['HeightAboveGround'] > 7) & (df['Eigenvalue0'] <= .02) & (df['NumberOfReturns'] == df['ReturnNumber'])"
   ]
  },
  {
   "cell_type": "code",
   "execution_count": 50,
   "metadata": {},
   "outputs": [],
   "source": [
    "roof_quiver = p3.quiver(df.loc[roof_mask,'Y'],df.loc[roof_mask,'Z'],df.loc[roof_mask,'X'], df.loc[roof_mask,'NormalY'], df.loc[roof_mask,'NormalZ'], df.loc[roof_mask,'NormalX'], size=2)\n",
    "fig.scatters.append(roof_quiver)\n",
    "non_ground.visible=False"
   ]
  },
  {
   "cell_type": "code",
   "execution_count": 51,
   "metadata": {},
   "outputs": [],
   "source": [
    "roof_quiver.x = df.loc[roof_mask,'NormalY'] *15\n",
    "roof_quiver.y = df.loc[roof_mask,'NormalZ'] *15 + df['Z'].median()\n",
    "roof_quiver.z = df.loc[roof_mask,'NormalX'] *15"
   ]
  },
  {
   "cell_type": "code",
   "execution_count": 52,
   "metadata": {},
   "outputs": [],
   "source": [
    "roof_quiver.visible = False\n",
    "non_ground.visible = True"
   ]
  },
  {
   "cell_type": "code",
   "execution_count": 54,
   "metadata": {},
   "outputs": [],
   "source": [
    "# Find building orientation using normals\n",
    "alphas = np.linspace(0, np.pi, num=180)\n",
    "magnitude = [np.abs(df.loc[roof_mask,['NormalX','NormalY']].values @ np.array([np.cos(alpha), np.sin(alpha)])).sum()\n",
    "             for alpha in alphas]\n",
    "angle = alphas[np.argmin(magnitude)]"
   ]
  },
  {
   "cell_type": "code",
   "execution_count": 55,
   "metadata": {},
   "outputs": [],
   "source": [
    "# Rotate building to align walls with X & Y axes\n",
    "Rotation = np.array([[np.cos(angle), np.sin(angle)],[-np.sin(angle), np.cos(angle)]])\n",
    "df['X_r'], df['Y_r'] = (df[['X','Y']].values @ Rotation[i] for i in (0,1))\n",
    "df['NormalX_r'], df['NormalY_r'] = (df[['NormalX','NormalY']].values @ Rotation[i] for i in (0,1))\n",
    "ground.x, ground.z = df.loc[df['Classification']!= 1, 'Y_r'], df.loc[df['Classification']!= 1, 'X_r']\n",
    "non_ground.x, non_ground.z = df.loc[df['Classification']== 1, 'Y_r'], df.loc[df['Classification']== 1, 'X_r']"
   ]
  },
  {
   "cell_type": "code",
   "execution_count": 56,
   "metadata": {},
   "outputs": [],
   "source": [
    "# Build 3D model in rotated coordinates\n",
    "z0 = df.loc[~roof_mask,'Z'].median()\n",
    "ystep = (df.loc[roof_mask,'Y_r']*4).astype(int)/4\n",
    "y_profile = (df[roof_mask].groupby(ystep)['Z'].quantile(.99).rolling(window=5).min()).shift(-1).fillna(z0)\n",
    "xstep = np.linspace(df.loc[roof_mask,'X_r'].quantile(.01), df.loc[roof_mask,'X_r'].quantile(.99), len(ystep.unique()))\n",
    "X,Y = np.meshgrid(xstep, ystep.sort_values().unique())\n",
    "Z = y_profile[Y.ravel()].values.reshape(Y.shape)"
   ]
  },
  {
   "cell_type": "code",
   "execution_count": 57,
   "metadata": {},
   "outputs": [],
   "source": [
    "\n",
    "# Plot 3D model# Plot  \n",
    "df_extra = pd.DataFrame({'X_r':X.ravel(),'Y_r':Y.ravel(),'Z': Z.ravel()})\n",
    "df_extra.loc[df_extra['X_r'] == df_extra['X_r'].max(), 'Z'] = z0\n",
    "df_extra.loc[df_extra['X_r'] == df_extra['X_r'].min(), 'Z'] = z0\n",
    "roof_delaunay = scipy.spatial.Delaunay(df_extra[['X_r','Y_r']])\n",
    "roof_model = p3.plot_trisurf(df_extra['Y_r'],df_extra['Z'],df_extra['X_r'], triangles=roof_delaunay.simplices, color='red')\n",
    "fig.meshes.append(roof_model)"
   ]
  },
  {
   "cell_type": "code",
   "execution_count": 58,
   "metadata": {},
   "outputs": [],
   "source": [
    "# Go back to original coordinates\n",
    "df_extra['X'], df_extra['Y'] = (df_extra[['X_r','Y_r']].values @ np.linalg.inv(Rotation)[i] for i in (0,1))\n",
    "df_extra['Classification'] = 6\n",
    "ground.x, ground.z = [df.loc[df['Classification']!= 1, axis] for axis in ['Y','X']]\n",
    "non_ground.visible=False\n",
    "roof_model.x, roof_model.z = df_extra['Y'], df_extra['X']"
   ]
  },
  {
   "cell_type": "code",
   "execution_count": 59,
   "metadata": {},
   "outputs": [],
   "source": [
    "# Add texture to the ground\n",
    "response = requests.get(IVaerial.format(*b))\n",
    "texture = PIL.Image.open(io.BytesIO(response.content))\n",
    "ground.u = (df.loc[df['Classification'] != 1, 'X_0'] - b[0]) / (b[2] - b[0])\n",
    "ground.v = (df.loc[df['Classification'] != 1, 'Y_0'] - b[1]) / (b[3] - b[1])\n",
    "ground.texture = texture"
   ]
  },
  {
   "cell_type": "code",
   "execution_count": 60,
   "metadata": {},
   "outputs": [],
   "source": [
    "\n",
    "# ... and to the building# ... a \n",
    "df_extra['X_0'] = df_extra['X'] + df['X_0'].mean()\n",
    "df_extra['Y_0'] = df_extra['Y'] + df['Y_0'].mean()\n",
    "roof_model.u = (df_extra['X_0'] - b[0]) / (b[2] - b[0])\n",
    "roof_model.v = (df_extra['Y_0'] - b[1]) / (b[3] - b[1])\n",
    "roof_model.texture = texture\n",
    "p3.style.use('minimal')"
   ]
  },
  {
   "cell_type": "code",
   "execution_count": null,
   "metadata": {},
   "outputs": [],
   "source": []
  }
 ],
 "metadata": {
  "kernelspec": {
   "display_name": "Python 3",
   "language": "python",
   "name": "python3"
  },
  "language_info": {
   "codemirror_mode": {
    "name": "ipython",
    "version": 3
   },
   "file_extension": ".py",
   "mimetype": "text/x-python",
   "name": "python",
   "nbconvert_exporter": "python",
   "pygments_lexer": "ipython3",
   "version": "3.6.6"
  }
 },
 "nbformat": 4,
 "nbformat_minor": 2
}
